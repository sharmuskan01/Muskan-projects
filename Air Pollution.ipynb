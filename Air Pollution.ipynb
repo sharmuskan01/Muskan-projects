{
 "cells": [
  {
   "cell_type": "code",
   "execution_count": 1,
   "metadata": {},
   "outputs": [],
   "source": [
    "import numpy as np\n",
    "import pandas as pd\n",
    "import matplotlib.pyplot as plt"
   ]
  },
  {
   "cell_type": "code",
   "execution_count": 2,
   "metadata": {},
   "outputs": [],
   "source": [
    "df = pd.read_csv(r\"D:\\Regression\\Train.csv\")\n",
    "one_arr = np.ones((df.shape[0],))"
   ]
  },
  {
   "cell_type": "code",
   "execution_count": 3,
   "metadata": {},
   "outputs": [],
   "source": [
    "x = np.c_[one_arr, df['feature_1'], df['feature_2'], df['feature_3'],  df['feature_4'], df['feature_5']]"
   ]
  },
  {
   "cell_type": "code",
   "execution_count": 4,
   "metadata": {},
   "outputs": [
    {
     "data": {
      "text/plain": [
       "array([[ 1.        ,  0.29341624, -0.94559871, -0.42110515,  0.40681602,\n",
       "         0.52566183],\n",
       "       [ 1.        , -0.83608408, -0.18922804, -0.77640262, -1.05383124,\n",
       "         0.59799685],\n",
       "       [ 1.        ,  0.23642511,  0.13283602, -0.14772298,  0.69985396,\n",
       "        -0.18736416],\n",
       "       ...,\n",
       "       [ 1.        ,  1.04417694, -0.89920649,  1.73039905, -1.87105676,\n",
       "         0.44251965],\n",
       "       [ 1.        , -1.2691729 , -0.00505216,  1.85766873, -1.08036482,\n",
       "         0.73633394],\n",
       "       [ 1.        , -1.88400025, -0.84942743, -1.45227035,  0.48861308,\n",
       "         1.4595758 ]])"
      ]
     },
     "execution_count": 4,
     "metadata": {},
     "output_type": "execute_result"
    }
   ],
   "source": [
    "x\n"
   ]
  },
  {
   "cell_type": "code",
   "execution_count": 5,
   "metadata": {},
   "outputs": [],
   "source": [
    "y = df['target'].values\n",
    "y = y.reshape((-1,))"
   ]
  },
  {
   "cell_type": "code",
   "execution_count": 6,
   "metadata": {},
   "outputs": [],
   "source": [
    "def hypothesis(x,theta):\n",
    "    return np.dot(x,theta)"
   ]
  },
  {
   "cell_type": "code",
   "execution_count": 7,
   "metadata": {},
   "outputs": [],
   "source": [
    "def error(x,theta,y):\n",
    "    err = 0.0\n",
    "    m = x.shape[0]\n",
    "    \n",
    "    for i in range(m):\n",
    "        hx = hypothesis(x[i],theta)\n",
    "        err += (hx-y[i])**2\n",
    "        \n",
    "    return err"
   ]
  },
  {
   "cell_type": "code",
   "execution_count": 8,
   "metadata": {},
   "outputs": [],
   "source": [
    "def gradient(x,theta,y):\n",
    "    m = x.shape[0]\n",
    "    \n",
    "    grad = np.zeros((theta.shape))\n",
    "    \n",
    "    for i in range(m):\n",
    "        hx = hypothesis(x[i],theta)\n",
    "        \n",
    "        grad += (hx - y[i])*x[i]\n",
    "        \n",
    "    return grad/m"
   ]
  },
  {
   "cell_type": "code",
   "execution_count": 9,
   "metadata": {},
   "outputs": [],
   "source": [
    "def gradient_descent(x,y,learning_rate = 0.01):\n",
    "    \n",
    "    \n",
    "    theta = np.zeros((x.shape[1],))\n",
    "    \n",
    "    err_list = []\n",
    "    theta_list = []\n",
    "    \n",
    "    \n",
    "    for i in range(1000):\n",
    "        grad = gradient(x,theta,y)\n",
    "        err = error(x,theta,y)\n",
    "        \n",
    "        err_list.append(err)\n",
    "        theta_list.append(theta)\n",
    "        \n",
    "        \n",
    "        theta -= (learning_rate*(grad))\n",
    "        \n",
    "    \n",
    "    return theta,err_list,theta_list"
   ]
  },
  {
   "cell_type": "code",
   "execution_count": 10,
   "metadata": {},
   "outputs": [],
   "source": [
    "final_theta , err_list , theta_list = gradient_descent(x,y)"
   ]
  },
  {
   "cell_type": "code",
   "execution_count": 11,
   "metadata": {},
   "outputs": [
    {
     "data": {
      "text/plain": [
       "[<matplotlib.lines.Line2D at 0x8dbbc70>]"
      ]
     },
     "execution_count": 11,
     "metadata": {},
     "output_type": "execute_result"
    },
    {
     "data": {
      "image/png": "[encoded data removed]",
      "text/plain": [
       "<Figure size 432x288 with 1 Axes>"
      ]
     },
     "metadata": {
      "needs_background": "light"
     },
     "output_type": "display_data"
    }
   ],
   "source": [
    "plt.plot(err_list)"
   ]
  },
  {
   "cell_type": "code",
   "execution_count": 12,
   "metadata": {},
   "outputs": [
    {
     "name": "stdout",
     "output_type": "stream",
     "text": [
      "[ 4.98825521 29.67987527 92.65908015  8.27756078 44.76510038  2.51769725]\n"
     ]
    }
   ],
   "source": [
    "print(final_theta)"
   ]
  },
  {
   "cell_type": "code",
   "execution_count": null,
   "metadata": {},
   "outputs": [],
   "source": []
  }
 ],
 "metadata": {
  "kernelspec": {
   "display_name": "Python 3",
   "language": "python",
   "name": "python3"
  },
  "language_info": {
   "codemirror_mode": {
    "name": "ipython",
    "version": 3
   },
   "file_extension": ".py",
   "mimetype": "text/x-python",
   "name": "python",
   "nbconvert_exporter": "python",
   "pygments_lexer": "ipython3",
   "version": "3.8.3"
  }
 },
 "nbformat": 4,
 "nbformat_minor": 2
}
